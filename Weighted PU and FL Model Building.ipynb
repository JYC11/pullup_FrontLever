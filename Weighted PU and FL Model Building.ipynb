{
 "cells": [
  {
   "cell_type": "markdown",
   "metadata": {},
   "source": [
    "# Weighted Pull up & Front Lever Survey"
   ]
  },
  {
   "cell_type": "markdown",
   "metadata": {},
   "source": [
    "## Model Building"
   ]
  },
  {
   "cell_type": "markdown",
   "metadata": {},
   "source": [
    "Models I am considering to use:\n",
    "* Linear SVC\n",
    "* Random Forest\n",
    "<br>\n",
    "but I need to read more about them before actually implementing it"
   ]
  },
  {
   "cell_type": "code",
   "execution_count": 1,
   "metadata": {},
   "outputs": [],
   "source": [
    "import pandas as pd\n",
    "import numpy as np\n",
    "import matplotlib.pyplot as plt\n",
    "import seaborn as sns\n",
    "from sklearn.model_selection import train_test_split\n",
    "from sklearn import svm, metrics\n",
    "from statistics import mean "
   ]
  },
  {
   "cell_type": "markdown",
   "metadata": {},
   "source": [
    "#### brainstorming\n",
    "\n",
    "split FL groups into 0 (no FL, tuck, adv tuck) and 1 (half lay straddle, straddle, full)\n",
    "\n",
    "^this one I don't think captures the degree of difference between the stages especially between no FL & adv tuck, half-lay straddle & full\n",
    "\n",
    "calculate estimated 1rm of each athlete by get the mid range of each 1rm percentage\n",
    "\n",
    "^Ideally the 1RM data would be a flat percentage instead of a range because this does dilute(?) the accuracy of the data\n",
    "\n",
    "gonna go with getting the mid range and doing a SVM"
   ]
  },
  {
   "cell_type": "code",
   "execution_count": 2,
   "metadata": {},
   "outputs": [
    {
     "name": "stdout",
     "output_type": "stream",
     "text": [
      "<class 'pandas.core.frame.DataFrame'>\n",
      "RangeIndex: 609 entries, 0 to 608\n",
      "Data columns (total 5 columns):\n",
      " #   Column                                             Non-Null Count  Dtype  \n",
      "---  ------                                             --------------  -----  \n",
      " 0   Weighted Pullup 1RM (% of BW)                      609 non-null    object \n",
      " 1   Max Front Lever progression (3 seconds good form)  609 non-null    object \n",
      " 2   Bodyweight (kg)                                    590 non-null    float64\n",
      " 3   Max pullups (endurance)                            586 non-null    float64\n",
      " 4   Height (cm)                                        498 non-null    float64\n",
      "dtypes: float64(3), object(2)\n",
      "memory usage: 23.9+ KB\n"
     ]
    }
   ],
   "source": [
    "raw = pd.read_csv(\"Weighted PU and FL cleaned.csv\",encoding = \"ISO-8859-1\")\n",
    "copy = raw.copy()\n",
    "copy = copy.drop([\"Other thoughts or comments? Helpful data\",\"Timestamp\"],axis=1)\n",
    "copy.info()"
   ]
  },
  {
   "cell_type": "markdown",
   "metadata": {},
   "source": [
    "### data cleaning again + big assumption note\n",
    "when I get the mid range of the over 90% group I have to make the assumption that none of the 90%+ participants have over 100% of extra weight added on their weighted pull up (next time should just get raw number from participants instead of range)"
   ]
  },
  {
   "cell_type": "code",
   "execution_count": 3,
   "metadata": {},
   "outputs": [],
   "source": [
    "copy[\"Weighted Pullup 1RM (% of BW)\"] = copy[\"Weighted Pullup 1RM (% of BW)\"].apply(lambda x: x.replace(\"%\",\"\").replace(\"<10\",\"0-10\").replace(\">90\",\"90-100\"))"
   ]
  },
  {
   "cell_type": "code",
   "execution_count": 4,
   "metadata": {},
   "outputs": [
    {
     "data": {
      "text/html": [
       "<div>\n",
       "<style scoped>\n",
       "    .dataframe tbody tr th:only-of-type {\n",
       "        vertical-align: middle;\n",
       "    }\n",
       "\n",
       "    .dataframe tbody tr th {\n",
       "        vertical-align: top;\n",
       "    }\n",
       "\n",
       "    .dataframe thead th {\n",
       "        text-align: right;\n",
       "    }\n",
       "</style>\n",
       "<table border=\"1\" class=\"dataframe\">\n",
       "  <thead>\n",
       "    <tr style=\"text-align: right;\">\n",
       "      <th></th>\n",
       "      <th>Weighted Pullup 1RM (% of BW)</th>\n",
       "      <th>Max Front Lever progression (3 seconds good form)</th>\n",
       "      <th>Bodyweight (kg)</th>\n",
       "      <th>Max pullups (endurance)</th>\n",
       "      <th>Height (cm)</th>\n",
       "    </tr>\n",
       "  </thead>\n",
       "  <tbody>\n",
       "    <tr>\n",
       "      <th>0</th>\n",
       "      <td>0-10</td>\n",
       "      <td>Straddle lever</td>\n",
       "      <td>59.8</td>\n",
       "      <td>20.0</td>\n",
       "      <td>165.0</td>\n",
       "    </tr>\n",
       "    <tr>\n",
       "      <th>1</th>\n",
       "      <td>65-80</td>\n",
       "      <td>Full lever</td>\n",
       "      <td>72.0</td>\n",
       "      <td>21.0</td>\n",
       "      <td>178.0</td>\n",
       "    </tr>\n",
       "    <tr>\n",
       "      <th>2</th>\n",
       "      <td>50-65</td>\n",
       "      <td>Straddle Halflay lever</td>\n",
       "      <td>68.0</td>\n",
       "      <td>17.0</td>\n",
       "      <td>169.0</td>\n",
       "    </tr>\n",
       "    <tr>\n",
       "      <th>3</th>\n",
       "      <td>50-65</td>\n",
       "      <td>Straddle lever</td>\n",
       "      <td>62.0</td>\n",
       "      <td>20.0</td>\n",
       "      <td>142.0</td>\n",
       "    </tr>\n",
       "    <tr>\n",
       "      <th>4</th>\n",
       "      <td>30-50</td>\n",
       "      <td>Full lever</td>\n",
       "      <td>45.0</td>\n",
       "      <td>20.0</td>\n",
       "      <td>160.0</td>\n",
       "    </tr>\n",
       "  </tbody>\n",
       "</table>\n",
       "</div>"
      ],
      "text/plain": [
       "  Weighted Pullup 1RM (% of BW)  \\\n",
       "0                          0-10   \n",
       "1                         65-80   \n",
       "2                         50-65   \n",
       "3                         50-65   \n",
       "4                         30-50   \n",
       "\n",
       "  Max Front Lever progression (3 seconds good form)  Bodyweight (kg)  \\\n",
       "0                                    Straddle lever             59.8   \n",
       "1                                        Full lever             72.0   \n",
       "2                            Straddle Halflay lever             68.0   \n",
       "3                                    Straddle lever             62.0   \n",
       "4                                        Full lever             45.0   \n",
       "\n",
       "   Max pullups (endurance)  Height (cm)  \n",
       "0                     20.0        165.0  \n",
       "1                     21.0        178.0  \n",
       "2                     17.0        169.0  \n",
       "3                     20.0        142.0  \n",
       "4                     20.0        160.0  "
      ]
     },
     "execution_count": 4,
     "metadata": {},
     "output_type": "execute_result"
    }
   ],
   "source": [
    "copy.head()"
   ]
  },
  {
   "cell_type": "code",
   "execution_count": 5,
   "metadata": {},
   "outputs": [
    {
     "data": {
      "text/html": [
       "<div>\n",
       "<style scoped>\n",
       "    .dataframe tbody tr th:only-of-type {\n",
       "        vertical-align: middle;\n",
       "    }\n",
       "\n",
       "    .dataframe tbody tr th {\n",
       "        vertical-align: top;\n",
       "    }\n",
       "\n",
       "    .dataframe thead th {\n",
       "        text-align: right;\n",
       "    }\n",
       "</style>\n",
       "<table border=\"1\" class=\"dataframe\">\n",
       "  <thead>\n",
       "    <tr style=\"text-align: right;\">\n",
       "      <th></th>\n",
       "      <th>Weighted Pullup 1RM (% of BW)</th>\n",
       "      <th>Max Front Lever progression (3 seconds good form)</th>\n",
       "      <th>Bodyweight (kg)</th>\n",
       "      <th>Max pullups (endurance)</th>\n",
       "      <th>Height (cm)</th>\n",
       "    </tr>\n",
       "  </thead>\n",
       "  <tbody>\n",
       "    <tr>\n",
       "      <th>604</th>\n",
       "      <td>90-100</td>\n",
       "      <td>Full lever</td>\n",
       "      <td>55.0</td>\n",
       "      <td>27.0</td>\n",
       "      <td>170.0</td>\n",
       "    </tr>\n",
       "    <tr>\n",
       "      <th>605</th>\n",
       "      <td>65-80</td>\n",
       "      <td>Full lever</td>\n",
       "      <td>72.0</td>\n",
       "      <td>22.0</td>\n",
       "      <td>175.0</td>\n",
       "    </tr>\n",
       "    <tr>\n",
       "      <th>606</th>\n",
       "      <td>10-30</td>\n",
       "      <td>Tuck lever</td>\n",
       "      <td>88.0</td>\n",
       "      <td>10.0</td>\n",
       "      <td>187.0</td>\n",
       "    </tr>\n",
       "    <tr>\n",
       "      <th>607</th>\n",
       "      <td>65-80</td>\n",
       "      <td>Straddle lever</td>\n",
       "      <td>65.0</td>\n",
       "      <td>35.0</td>\n",
       "      <td>170.0</td>\n",
       "    </tr>\n",
       "    <tr>\n",
       "      <th>608</th>\n",
       "      <td>50-65</td>\n",
       "      <td>Advanced Tuck lever</td>\n",
       "      <td>68.0</td>\n",
       "      <td>15.0</td>\n",
       "      <td>183.0</td>\n",
       "    </tr>\n",
       "  </tbody>\n",
       "</table>\n",
       "</div>"
      ],
      "text/plain": [
       "    Weighted Pullup 1RM (% of BW)  \\\n",
       "604                        90-100   \n",
       "605                         65-80   \n",
       "606                         10-30   \n",
       "607                         65-80   \n",
       "608                         50-65   \n",
       "\n",
       "    Max Front Lever progression (3 seconds good form)  Bodyweight (kg)  \\\n",
       "604                                        Full lever             55.0   \n",
       "605                                        Full lever             72.0   \n",
       "606                                        Tuck lever             88.0   \n",
       "607                                    Straddle lever             65.0   \n",
       "608                               Advanced Tuck lever             68.0   \n",
       "\n",
       "     Max pullups (endurance)  Height (cm)  \n",
       "604                     27.0        170.0  \n",
       "605                     22.0        175.0  \n",
       "606                     10.0        187.0  \n",
       "607                     35.0        170.0  \n",
       "608                     15.0        183.0  "
      ]
     },
     "execution_count": 5,
     "metadata": {},
     "output_type": "execute_result"
    }
   ],
   "source": [
    "copy.tail()"
   ]
  },
  {
   "cell_type": "code",
   "execution_count": 6,
   "metadata": {},
   "outputs": [
    {
     "name": "stdout",
     "output_type": "stream",
     "text": [
      "<class 'pandas.core.frame.DataFrame'>\n",
      "RangeIndex: 609 entries, 0 to 608\n",
      "Data columns (total 5 columns):\n",
      " #   Column                                             Non-Null Count  Dtype  \n",
      "---  ------                                             --------------  -----  \n",
      " 0   Weighted Pullup 1RM (% of BW)                      609 non-null    object \n",
      " 1   Max Front Lever progression (3 seconds good form)  609 non-null    object \n",
      " 2   Bodyweight (kg)                                    590 non-null    float64\n",
      " 3   Max pullups (endurance)                            586 non-null    float64\n",
      " 4   Height (cm)                                        498 non-null    float64\n",
      "dtypes: float64(3), object(2)\n",
      "memory usage: 23.9+ KB\n"
     ]
    }
   ],
   "source": [
    "copy.info()"
   ]
  },
  {
   "cell_type": "code",
   "execution_count": 7,
   "metadata": {},
   "outputs": [],
   "source": [
    "#thanks for the sample code from the data scientist salary project Ken\n",
    "copy[\"min %\"] = copy[\"Weighted Pullup 1RM (% of BW)\"].apply(lambda x: int(x.split('-')[0]))\n",
    "copy[\"max %\"] = copy[\"Weighted Pullup 1RM (% of BW)\"].apply(lambda x: int(x.split('-')[1]))\n",
    "copy[\"Estimated Weighted Pullup 1RM (% of BW)\"] = (copy[\"min %\"]+copy[\"max %\"])/2"
   ]
  },
  {
   "cell_type": "code",
   "execution_count": 8,
   "metadata": {},
   "outputs": [
    {
     "data": {
      "text/html": [
       "<div>\n",
       "<style scoped>\n",
       "    .dataframe tbody tr th:only-of-type {\n",
       "        vertical-align: middle;\n",
       "    }\n",
       "\n",
       "    .dataframe tbody tr th {\n",
       "        vertical-align: top;\n",
       "    }\n",
       "\n",
       "    .dataframe thead th {\n",
       "        text-align: right;\n",
       "    }\n",
       "</style>\n",
       "<table border=\"1\" class=\"dataframe\">\n",
       "  <thead>\n",
       "    <tr style=\"text-align: right;\">\n",
       "      <th></th>\n",
       "      <th>Weighted Pullup 1RM (% of BW)</th>\n",
       "      <th>Max Front Lever progression (3 seconds good form)</th>\n",
       "      <th>Bodyweight (kg)</th>\n",
       "      <th>Max pullups (endurance)</th>\n",
       "      <th>Height (cm)</th>\n",
       "      <th>min %</th>\n",
       "      <th>max %</th>\n",
       "      <th>Estimated Weighted Pullup 1RM (% of BW)</th>\n",
       "    </tr>\n",
       "  </thead>\n",
       "  <tbody>\n",
       "    <tr>\n",
       "      <th>0</th>\n",
       "      <td>0-10</td>\n",
       "      <td>Straddle lever</td>\n",
       "      <td>59.8</td>\n",
       "      <td>20.0</td>\n",
       "      <td>165.0</td>\n",
       "      <td>0</td>\n",
       "      <td>10</td>\n",
       "      <td>5.0</td>\n",
       "    </tr>\n",
       "    <tr>\n",
       "      <th>1</th>\n",
       "      <td>65-80</td>\n",
       "      <td>Full lever</td>\n",
       "      <td>72.0</td>\n",
       "      <td>21.0</td>\n",
       "      <td>178.0</td>\n",
       "      <td>65</td>\n",
       "      <td>80</td>\n",
       "      <td>72.5</td>\n",
       "    </tr>\n",
       "    <tr>\n",
       "      <th>2</th>\n",
       "      <td>50-65</td>\n",
       "      <td>Straddle Halflay lever</td>\n",
       "      <td>68.0</td>\n",
       "      <td>17.0</td>\n",
       "      <td>169.0</td>\n",
       "      <td>50</td>\n",
       "      <td>65</td>\n",
       "      <td>57.5</td>\n",
       "    </tr>\n",
       "    <tr>\n",
       "      <th>3</th>\n",
       "      <td>50-65</td>\n",
       "      <td>Straddle lever</td>\n",
       "      <td>62.0</td>\n",
       "      <td>20.0</td>\n",
       "      <td>142.0</td>\n",
       "      <td>50</td>\n",
       "      <td>65</td>\n",
       "      <td>57.5</td>\n",
       "    </tr>\n",
       "    <tr>\n",
       "      <th>4</th>\n",
       "      <td>30-50</td>\n",
       "      <td>Full lever</td>\n",
       "      <td>45.0</td>\n",
       "      <td>20.0</td>\n",
       "      <td>160.0</td>\n",
       "      <td>30</td>\n",
       "      <td>50</td>\n",
       "      <td>40.0</td>\n",
       "    </tr>\n",
       "  </tbody>\n",
       "</table>\n",
       "</div>"
      ],
      "text/plain": [
       "  Weighted Pullup 1RM (% of BW)  \\\n",
       "0                          0-10   \n",
       "1                         65-80   \n",
       "2                         50-65   \n",
       "3                         50-65   \n",
       "4                         30-50   \n",
       "\n",
       "  Max Front Lever progression (3 seconds good form)  Bodyweight (kg)  \\\n",
       "0                                    Straddle lever             59.8   \n",
       "1                                        Full lever             72.0   \n",
       "2                            Straddle Halflay lever             68.0   \n",
       "3                                    Straddle lever             62.0   \n",
       "4                                        Full lever             45.0   \n",
       "\n",
       "   Max pullups (endurance)  Height (cm)  min %  max %  \\\n",
       "0                     20.0        165.0      0     10   \n",
       "1                     21.0        178.0     65     80   \n",
       "2                     17.0        169.0     50     65   \n",
       "3                     20.0        142.0     50     65   \n",
       "4                     20.0        160.0     30     50   \n",
       "\n",
       "   Estimated Weighted Pullup 1RM (% of BW)  \n",
       "0                                      5.0  \n",
       "1                                     72.5  \n",
       "2                                     57.5  \n",
       "3                                     57.5  \n",
       "4                                     40.0  "
      ]
     },
     "execution_count": 8,
     "metadata": {},
     "output_type": "execute_result"
    }
   ],
   "source": [
    "copy.head()"
   ]
  },
  {
   "cell_type": "code",
   "execution_count": 9,
   "metadata": {},
   "outputs": [],
   "source": [
    "copy = copy.drop([\"Weighted Pullup 1RM (% of BW)\",\"min %\",\"max %\"],axis=1)"
   ]
  },
  {
   "cell_type": "code",
   "execution_count": 10,
   "metadata": {},
   "outputs": [
    {
     "data": {
      "text/html": [
       "<div>\n",
       "<style scoped>\n",
       "    .dataframe tbody tr th:only-of-type {\n",
       "        vertical-align: middle;\n",
       "    }\n",
       "\n",
       "    .dataframe tbody tr th {\n",
       "        vertical-align: top;\n",
       "    }\n",
       "\n",
       "    .dataframe thead th {\n",
       "        text-align: right;\n",
       "    }\n",
       "</style>\n",
       "<table border=\"1\" class=\"dataframe\">\n",
       "  <thead>\n",
       "    <tr style=\"text-align: right;\">\n",
       "      <th></th>\n",
       "      <th>Max Front Lever progression (3 seconds good form)</th>\n",
       "      <th>Bodyweight (kg)</th>\n",
       "      <th>Max pullups (endurance)</th>\n",
       "      <th>Height (cm)</th>\n",
       "      <th>Estimated Weighted Pullup 1RM (% of BW)</th>\n",
       "    </tr>\n",
       "  </thead>\n",
       "  <tbody>\n",
       "    <tr>\n",
       "      <th>0</th>\n",
       "      <td>Straddle lever</td>\n",
       "      <td>59.8</td>\n",
       "      <td>20.0</td>\n",
       "      <td>165.0</td>\n",
       "      <td>5.0</td>\n",
       "    </tr>\n",
       "    <tr>\n",
       "      <th>1</th>\n",
       "      <td>Full lever</td>\n",
       "      <td>72.0</td>\n",
       "      <td>21.0</td>\n",
       "      <td>178.0</td>\n",
       "      <td>72.5</td>\n",
       "    </tr>\n",
       "    <tr>\n",
       "      <th>2</th>\n",
       "      <td>Straddle Halflay lever</td>\n",
       "      <td>68.0</td>\n",
       "      <td>17.0</td>\n",
       "      <td>169.0</td>\n",
       "      <td>57.5</td>\n",
       "    </tr>\n",
       "    <tr>\n",
       "      <th>3</th>\n",
       "      <td>Straddle lever</td>\n",
       "      <td>62.0</td>\n",
       "      <td>20.0</td>\n",
       "      <td>142.0</td>\n",
       "      <td>57.5</td>\n",
       "    </tr>\n",
       "    <tr>\n",
       "      <th>4</th>\n",
       "      <td>Full lever</td>\n",
       "      <td>45.0</td>\n",
       "      <td>20.0</td>\n",
       "      <td>160.0</td>\n",
       "      <td>40.0</td>\n",
       "    </tr>\n",
       "  </tbody>\n",
       "</table>\n",
       "</div>"
      ],
      "text/plain": [
       "  Max Front Lever progression (3 seconds good form)  Bodyweight (kg)  \\\n",
       "0                                    Straddle lever             59.8   \n",
       "1                                        Full lever             72.0   \n",
       "2                            Straddle Halflay lever             68.0   \n",
       "3                                    Straddle lever             62.0   \n",
       "4                                        Full lever             45.0   \n",
       "\n",
       "   Max pullups (endurance)  Height (cm)  \\\n",
       "0                     20.0        165.0   \n",
       "1                     21.0        178.0   \n",
       "2                     17.0        169.0   \n",
       "3                     20.0        142.0   \n",
       "4                     20.0        160.0   \n",
       "\n",
       "   Estimated Weighted Pullup 1RM (% of BW)  \n",
       "0                                      5.0  \n",
       "1                                     72.5  \n",
       "2                                     57.5  \n",
       "3                                     57.5  \n",
       "4                                     40.0  "
      ]
     },
     "execution_count": 10,
     "metadata": {},
     "output_type": "execute_result"
    }
   ],
   "source": [
    "copy.head()"
   ]
  },
  {
   "cell_type": "code",
   "execution_count": 11,
   "metadata": {},
   "outputs": [
    {
     "data": {
      "text/html": [
       "<div>\n",
       "<style scoped>\n",
       "    .dataframe tbody tr th:only-of-type {\n",
       "        vertical-align: middle;\n",
       "    }\n",
       "\n",
       "    .dataframe tbody tr th {\n",
       "        vertical-align: top;\n",
       "    }\n",
       "\n",
       "    .dataframe thead th {\n",
       "        text-align: right;\n",
       "    }\n",
       "</style>\n",
       "<table border=\"1\" class=\"dataframe\">\n",
       "  <thead>\n",
       "    <tr style=\"text-align: right;\">\n",
       "      <th></th>\n",
       "      <th>Max Front Lever progression (3 seconds good form)</th>\n",
       "      <th>Bodyweight (kg)</th>\n",
       "      <th>Height (cm)</th>\n",
       "      <th>Estimated Weighted Pullup 1RM (% of BW)</th>\n",
       "      <th>Max pullups (endurance)</th>\n",
       "    </tr>\n",
       "  </thead>\n",
       "  <tbody>\n",
       "    <tr>\n",
       "      <th>0</th>\n",
       "      <td>Straddle lever</td>\n",
       "      <td>59.8</td>\n",
       "      <td>165.0</td>\n",
       "      <td>5.0</td>\n",
       "      <td>20.0</td>\n",
       "    </tr>\n",
       "    <tr>\n",
       "      <th>1</th>\n",
       "      <td>Full lever</td>\n",
       "      <td>72.0</td>\n",
       "      <td>178.0</td>\n",
       "      <td>72.5</td>\n",
       "      <td>21.0</td>\n",
       "    </tr>\n",
       "    <tr>\n",
       "      <th>2</th>\n",
       "      <td>Straddle Halflay lever</td>\n",
       "      <td>68.0</td>\n",
       "      <td>169.0</td>\n",
       "      <td>57.5</td>\n",
       "      <td>17.0</td>\n",
       "    </tr>\n",
       "    <tr>\n",
       "      <th>3</th>\n",
       "      <td>Straddle lever</td>\n",
       "      <td>62.0</td>\n",
       "      <td>142.0</td>\n",
       "      <td>57.5</td>\n",
       "      <td>20.0</td>\n",
       "    </tr>\n",
       "    <tr>\n",
       "      <th>4</th>\n",
       "      <td>Full lever</td>\n",
       "      <td>45.0</td>\n",
       "      <td>160.0</td>\n",
       "      <td>40.0</td>\n",
       "      <td>20.0</td>\n",
       "    </tr>\n",
       "  </tbody>\n",
       "</table>\n",
       "</div>"
      ],
      "text/plain": [
       "  Max Front Lever progression (3 seconds good form)  Bodyweight (kg)  \\\n",
       "0                                    Straddle lever             59.8   \n",
       "1                                        Full lever             72.0   \n",
       "2                            Straddle Halflay lever             68.0   \n",
       "3                                    Straddle lever             62.0   \n",
       "4                                        Full lever             45.0   \n",
       "\n",
       "   Height (cm)  Estimated Weighted Pullup 1RM (% of BW)  \\\n",
       "0        165.0                                      5.0   \n",
       "1        178.0                                     72.5   \n",
       "2        169.0                                     57.5   \n",
       "3        142.0                                     57.5   \n",
       "4        160.0                                     40.0   \n",
       "\n",
       "   Max pullups (endurance)  \n",
       "0                     20.0  \n",
       "1                     21.0  \n",
       "2                     17.0  \n",
       "3                     20.0  \n",
       "4                     20.0  "
      ]
     },
     "execution_count": 11,
     "metadata": {},
     "output_type": "execute_result"
    }
   ],
   "source": [
    "copy = copy[[\"Max Front Lever progression (3 seconds good form)\",\"Bodyweight (kg)\",\"Height (cm)\",\"Estimated Weighted Pullup 1RM (% of BW)\",\"Max pullups (endurance)\"]]\n",
    "copy.head()"
   ]
  },
  {
   "cell_type": "code",
   "execution_count": 12,
   "metadata": {},
   "outputs": [
    {
     "name": "stdout",
     "output_type": "stream",
     "text": [
      "<class 'pandas.core.frame.DataFrame'>\n",
      "RangeIndex: 609 entries, 0 to 608\n",
      "Data columns (total 5 columns):\n",
      " #   Column                                             Non-Null Count  Dtype  \n",
      "---  ------                                             --------------  -----  \n",
      " 0   Max Front Lever progression (3 seconds good form)  609 non-null    object \n",
      " 1   Bodyweight (kg)                                    590 non-null    float64\n",
      " 2   Height (cm)                                        498 non-null    float64\n",
      " 3   Estimated Weighted Pullup 1RM (% of BW)            609 non-null    float64\n",
      " 4   Max pullups (endurance)                            586 non-null    float64\n",
      "dtypes: float64(4), object(1)\n",
      "memory usage: 23.9+ KB\n"
     ]
    }
   ],
   "source": [
    "copy.info()"
   ]
  },
  {
   "cell_type": "markdown",
   "metadata": {},
   "source": [
    "There's a lot of missing data so I'm considering replacing it with averages. Hmmm I wonder if that's a good idea or not."
   ]
  },
  {
   "cell_type": "code",
   "execution_count": 13,
   "metadata": {},
   "outputs": [],
   "source": [
    "copy[\"Bodyweight (kg)\"].fillna(round(copy[\"Bodyweight (kg)\"].mean()),inplace=True)\n",
    "copy[\"Height (cm)\"].fillna(round(copy[\"Height (cm)\"].mean()),inplace=True)\n",
    "copy[\"Max pullups (endurance)\"].fillna(round(copy[\"Max pullups (endurance)\"].mean()),inplace=True)"
   ]
  },
  {
   "cell_type": "code",
   "execution_count": 14,
   "metadata": {},
   "outputs": [
    {
     "name": "stdout",
     "output_type": "stream",
     "text": [
      "<class 'pandas.core.frame.DataFrame'>\n",
      "RangeIndex: 609 entries, 0 to 608\n",
      "Data columns (total 5 columns):\n",
      " #   Column                                             Non-Null Count  Dtype  \n",
      "---  ------                                             --------------  -----  \n",
      " 0   Max Front Lever progression (3 seconds good form)  609 non-null    object \n",
      " 1   Bodyweight (kg)                                    609 non-null    float64\n",
      " 2   Height (cm)                                        609 non-null    float64\n",
      " 3   Estimated Weighted Pullup 1RM (% of BW)            609 non-null    float64\n",
      " 4   Max pullups (endurance)                            609 non-null    float64\n",
      "dtypes: float64(4), object(1)\n",
      "memory usage: 23.9+ KB\n"
     ]
    }
   ],
   "source": [
    "copy.info()"
   ]
  },
  {
   "cell_type": "markdown",
   "metadata": {},
   "source": [
    "### model building\n",
    "the sample size is still pretty small so I'm gonna do a 90,10 split"
   ]
  },
  {
   "cell_type": "code",
   "execution_count": 15,
   "metadata": {},
   "outputs": [],
   "source": [
    "x = copy.drop([\"Max Front Lever progression (3 seconds good form)\"],axis=1)\n",
    "y = copy[\"Max Front Lever progression (3 seconds good form)\"]"
   ]
  },
  {
   "cell_type": "code",
   "execution_count": 16,
   "metadata": {},
   "outputs": [
    {
     "data": {
      "text/html": [
       "<div>\n",
       "<style scoped>\n",
       "    .dataframe tbody tr th:only-of-type {\n",
       "        vertical-align: middle;\n",
       "    }\n",
       "\n",
       "    .dataframe tbody tr th {\n",
       "        vertical-align: top;\n",
       "    }\n",
       "\n",
       "    .dataframe thead th {\n",
       "        text-align: right;\n",
       "    }\n",
       "</style>\n",
       "<table border=\"1\" class=\"dataframe\">\n",
       "  <thead>\n",
       "    <tr style=\"text-align: right;\">\n",
       "      <th></th>\n",
       "      <th>Bodyweight (kg)</th>\n",
       "      <th>Height (cm)</th>\n",
       "      <th>Estimated Weighted Pullup 1RM (% of BW)</th>\n",
       "      <th>Max pullups (endurance)</th>\n",
       "    </tr>\n",
       "  </thead>\n",
       "  <tbody>\n",
       "    <tr>\n",
       "      <th>0</th>\n",
       "      <td>59.8</td>\n",
       "      <td>165.0</td>\n",
       "      <td>5.0</td>\n",
       "      <td>20.0</td>\n",
       "    </tr>\n",
       "    <tr>\n",
       "      <th>1</th>\n",
       "      <td>72.0</td>\n",
       "      <td>178.0</td>\n",
       "      <td>72.5</td>\n",
       "      <td>21.0</td>\n",
       "    </tr>\n",
       "    <tr>\n",
       "      <th>2</th>\n",
       "      <td>68.0</td>\n",
       "      <td>169.0</td>\n",
       "      <td>57.5</td>\n",
       "      <td>17.0</td>\n",
       "    </tr>\n",
       "    <tr>\n",
       "      <th>3</th>\n",
       "      <td>62.0</td>\n",
       "      <td>142.0</td>\n",
       "      <td>57.5</td>\n",
       "      <td>20.0</td>\n",
       "    </tr>\n",
       "    <tr>\n",
       "      <th>4</th>\n",
       "      <td>45.0</td>\n",
       "      <td>160.0</td>\n",
       "      <td>40.0</td>\n",
       "      <td>20.0</td>\n",
       "    </tr>\n",
       "  </tbody>\n",
       "</table>\n",
       "</div>"
      ],
      "text/plain": [
       "   Bodyweight (kg)  Height (cm)  Estimated Weighted Pullup 1RM (% of BW)  \\\n",
       "0             59.8        165.0                                      5.0   \n",
       "1             72.0        178.0                                     72.5   \n",
       "2             68.0        169.0                                     57.5   \n",
       "3             62.0        142.0                                     57.5   \n",
       "4             45.0        160.0                                     40.0   \n",
       "\n",
       "   Max pullups (endurance)  \n",
       "0                     20.0  \n",
       "1                     21.0  \n",
       "2                     17.0  \n",
       "3                     20.0  \n",
       "4                     20.0  "
      ]
     },
     "execution_count": 16,
     "metadata": {},
     "output_type": "execute_result"
    }
   ],
   "source": [
    "x.head()"
   ]
  },
  {
   "cell_type": "code",
   "execution_count": 17,
   "metadata": {},
   "outputs": [
    {
     "data": {
      "text/plain": [
       "0            Straddle lever\n",
       "1                Full lever\n",
       "2    Straddle Halflay lever\n",
       "3            Straddle lever\n",
       "4                Full lever\n",
       "Name: Max Front Lever progression (3 seconds good form), dtype: object"
      ]
     },
     "execution_count": 17,
     "metadata": {},
     "output_type": "execute_result"
    }
   ],
   "source": [
    "y.head()"
   ]
  },
  {
   "cell_type": "markdown",
   "metadata": {},
   "source": [
    "testing the accuracy of the model 1000 times"
   ]
  },
  {
   "cell_type": "code",
   "execution_count": 18,
   "metadata": {},
   "outputs": [
    {
     "name": "stderr",
     "output_type": "stream",
     "text": [
      "100%|██████████| 1000/1000 [00:16<00:00, 59.56it/s]\n"
     ]
    }
   ],
   "source": [
    "from tqdm import tqdm\n",
    "scoreList = []\n",
    "for i in tqdm(range(1000)):\n",
    "    x_train, x_test, y_train, y_test = train_test_split(x, y, test_size=0.1)\n",
    "    classifier = svm.SVC()\n",
    "    classifier.fit(x_train, y_train)\n",
    "    predict = classifier.predict(x_test)\n",
    "    #print(\"Predicted results: \",predict)\n",
    "    score = metrics.accuracy_score(y_test,predict)\n",
    "    scoreList.append(score)\n",
    "    #print(\"Accuracy score is: \",score)"
   ]
  },
  {
   "cell_type": "code",
   "execution_count": 21,
   "metadata": {},
   "outputs": [
    {
     "name": "stdout",
     "output_type": "stream",
     "text": [
      "Average score of 1000 tests is:  46 %\n"
     ]
    }
   ],
   "source": [
    "print(\"Average score of 1000 tests is: \",round(mean(scoreList)*100),\"%\")"
   ]
  }
 ],
 "metadata": {
  "kernelspec": {
   "display_name": "Python 3",
   "language": "python",
   "name": "python3"
  },
  "language_info": {
   "codemirror_mode": {
    "name": "ipython",
    "version": 3
   },
   "file_extension": ".py",
   "mimetype": "text/x-python",
   "name": "python",
   "nbconvert_exporter": "python",
   "pygments_lexer": "ipython3",
   "version": "3.8.5"
  }
 },
 "nbformat": 4,
 "nbformat_minor": 4
}
