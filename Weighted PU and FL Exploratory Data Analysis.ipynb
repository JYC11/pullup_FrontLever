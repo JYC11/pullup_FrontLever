{
 "cells": [
  {
   "cell_type": "markdown",
   "metadata": {},
   "source": [
    "# Weighted Pull up & Front Lever Survey"
   ]
  },
  {
   "cell_type": "markdown",
   "metadata": {},
   "source": [
    "## Exploratory Data Analysis"
   ]
  },
  {
   "cell_type": "markdown",
   "metadata": {},
   "source": [
    "### How to read"
   ]
  },
  {
   "cell_type": "code",
   "execution_count": null,
   "metadata": {},
   "outputs": [],
   "source": [
    "the code"
   ]
  },
  {
   "cell_type": "code",
   "execution_count": null,
   "metadata": {},
   "outputs": [],
   "source": [
    "the result of the code"
   ]
  },
  {
   "cell_type": "markdown",
   "metadata": {},
   "source": [
    "the memo/description of what I did"
   ]
  },
  {
   "cell_type": "code",
   "execution_count": 1,
   "metadata": {},
   "outputs": [],
   "source": [
    "import pandas as pd\n",
    "import numpy as np\n",
    "import statsmodels.api as sm\n",
    "import matplotlib.pyplot as plt\n",
    "import seaborn as sns\n",
    "import re\n",
    "from statistics import mean"
   ]
  },
  {
   "cell_type": "code",
   "execution_count": 2,
   "metadata": {},
   "outputs": [],
   "source": [
    "raw = pd.read_csv(\"Weighted PU and FL cleaned.csv\",encoding = \"ISO-8859-1\")"
   ]
  },
  {
   "cell_type": "code",
   "execution_count": 3,
   "metadata": {},
   "outputs": [],
   "source": [
    "copy = raw.copy()"
   ]
  },
  {
   "cell_type": "code",
   "execution_count": 4,
   "metadata": {},
   "outputs": [
    {
     "name": "stdout",
     "output_type": "stream",
     "text": [
      "<class 'pandas.core.frame.DataFrame'>\n",
      "RangeIndex: 609 entries, 0 to 608\n",
      "Data columns (total 7 columns):\n",
      " #   Column                                             Non-Null Count  Dtype  \n",
      "---  ------                                             --------------  -----  \n",
      " 0   Timestamp                                          609 non-null    object \n",
      " 1   Weighted Pullup 1RM (% of BW)                      609 non-null    object \n",
      " 2   Max Front Lever progression (3 seconds good form)  609 non-null    object \n",
      " 3   Other thoughts or comments? Helpful data           219 non-null    object \n",
      " 4   Bodyweight (kg)                                    590 non-null    float64\n",
      " 5   Max pullups (endurance)                            586 non-null    float64\n",
      " 6   Height (cm)                                        498 non-null    float64\n",
      "dtypes: float64(3), object(4)\n",
      "memory usage: 33.4+ KB\n"
     ]
    }
   ],
   "source": [
    "copy.info()"
   ]
  },
  {
   "cell_type": "code",
   "execution_count": 5,
   "metadata": {},
   "outputs": [
    {
     "data": {
      "text/html": [
       "<div>\n",
       "<style scoped>\n",
       "    .dataframe tbody tr th:only-of-type {\n",
       "        vertical-align: middle;\n",
       "    }\n",
       "\n",
       "    .dataframe tbody tr th {\n",
       "        vertical-align: top;\n",
       "    }\n",
       "\n",
       "    .dataframe thead th {\n",
       "        text-align: right;\n",
       "    }\n",
       "</style>\n",
       "<table border=\"1\" class=\"dataframe\">\n",
       "  <thead>\n",
       "    <tr style=\"text-align: right;\">\n",
       "      <th></th>\n",
       "      <th>Bodyweight (kg)</th>\n",
       "      <th>Max pullups (endurance)</th>\n",
       "      <th>Height (cm)</th>\n",
       "    </tr>\n",
       "  </thead>\n",
       "  <tbody>\n",
       "    <tr>\n",
       "      <th>count</th>\n",
       "      <td>590.000000</td>\n",
       "      <td>586.000000</td>\n",
       "      <td>498.000000</td>\n",
       "    </tr>\n",
       "    <tr>\n",
       "      <th>mean</th>\n",
       "      <td>72.343051</td>\n",
       "      <td>19.220990</td>\n",
       "      <td>177.227269</td>\n",
       "    </tr>\n",
       "    <tr>\n",
       "      <th>std</th>\n",
       "      <td>12.633892</td>\n",
       "      <td>7.092446</td>\n",
       "      <td>7.433451</td>\n",
       "    </tr>\n",
       "    <tr>\n",
       "      <th>min</th>\n",
       "      <td>45.000000</td>\n",
       "      <td>3.000000</td>\n",
       "      <td>142.000000</td>\n",
       "    </tr>\n",
       "    <tr>\n",
       "      <th>25%</th>\n",
       "      <td>65.250000</td>\n",
       "      <td>15.000000</td>\n",
       "      <td>172.000000</td>\n",
       "    </tr>\n",
       "    <tr>\n",
       "      <th>50%</th>\n",
       "      <td>71.000000</td>\n",
       "      <td>19.000000</td>\n",
       "      <td>177.900000</td>\n",
       "    </tr>\n",
       "    <tr>\n",
       "      <th>75%</th>\n",
       "      <td>78.000000</td>\n",
       "      <td>24.000000</td>\n",
       "      <td>182.000000</td>\n",
       "    </tr>\n",
       "    <tr>\n",
       "      <th>max</th>\n",
       "      <td>220.000000</td>\n",
       "      <td>42.500000</td>\n",
       "      <td>207.000000</td>\n",
       "    </tr>\n",
       "  </tbody>\n",
       "</table>\n",
       "</div>"
      ],
      "text/plain": [
       "       Bodyweight (kg)  Max pullups (endurance)  Height (cm)\n",
       "count       590.000000               586.000000   498.000000\n",
       "mean         72.343051                19.220990   177.227269\n",
       "std          12.633892                 7.092446     7.433451\n",
       "min          45.000000                 3.000000   142.000000\n",
       "25%          65.250000                15.000000   172.000000\n",
       "50%          71.000000                19.000000   177.900000\n",
       "75%          78.000000                24.000000   182.000000\n",
       "max         220.000000                42.500000   207.000000"
      ]
     },
     "execution_count": 5,
     "metadata": {},
     "output_type": "execute_result"
    }
   ],
   "source": [
    "copy.describe()"
   ]
  },
  {
   "cell_type": "code",
   "execution_count": 6,
   "metadata": {},
   "outputs": [
    {
     "data": {
      "text/plain": [
       "Index(['Timestamp', 'Weighted Pullup 1RM (% of BW)',\n",
       "       'Max Front Lever progression (3 seconds good form)',\n",
       "       'Other thoughts or comments? Helpful data', 'Bodyweight (kg)',\n",
       "       'Max pullups (endurance)', 'Height (cm)'],\n",
       "      dtype='object')"
      ]
     },
     "execution_count": 6,
     "metadata": {},
     "output_type": "execute_result"
    }
   ],
   "source": [
    "copy.columns"
   ]
  },
  {
   "cell_type": "code",
   "execution_count": 7,
   "metadata": {},
   "outputs": [
    {
     "data": {
      "text/plain": [
       "RangeIndex(start=0, stop=609, step=1)"
      ]
     },
     "execution_count": 7,
     "metadata": {},
     "output_type": "execute_result"
    }
   ],
   "source": [
    "copy.index"
   ]
  },
  {
   "cell_type": "code",
   "execution_count": 8,
   "metadata": {},
   "outputs": [
    {
     "data": {
      "text/plain": [
       "Timestamp                                              0\n",
       "Weighted Pullup 1RM (% of BW)                          0\n",
       "Max Front Lever progression (3 seconds good form)      0\n",
       "Other thoughts or comments? Helpful data             390\n",
       "Bodyweight (kg)                                       19\n",
       "Max pullups (endurance)                               23\n",
       "Height (cm)                                          111\n",
       "dtype: int64"
      ]
     },
     "execution_count": 8,
     "metadata": {},
     "output_type": "execute_result"
    }
   ],
   "source": [
    "copy.apply(lambda x: sum(x.isnull()),axis=0)"
   ]
  },
  {
   "cell_type": "markdown",
   "metadata": {},
   "source": [
    "Counting how many data is missing"
   ]
  },
  {
   "cell_type": "code",
   "execution_count": 60,
   "metadata": {},
   "outputs": [
    {
     "data": {
      "text/plain": [
       "<AxesSubplot:>"
      ]
     },
     "execution_count": 60,
     "metadata": {},
     "output_type": "execute_result"
    },
    {
     "data": {
      "image/png": "[encoded data removed]",
      "text/plain": [
       "<Figure size 432x288 with 1 Axes>"
      ]
     },
     "metadata": {
      "needs_background": "light"
     },
     "output_type": "display_data"
    }
   ],
   "source": [
    "copy[\"Bodyweight (kg)\"].hist(bins = 40)"
   ]
  },
  {
   "cell_type": "code",
   "execution_count": 10,
   "metadata": {},
   "outputs": [
    {
     "data": {
      "text/plain": [
       "<AxesSubplot:>"
      ]
     },
     "execution_count": 10,
     "metadata": {},
     "output_type": "execute_result"
    },
    {
     "data": {
      "image/png": "[encoded data removed]",
      "text/plain": [
       "<Figure size 432x288 with 1 Axes>"
      ]
     },
     "metadata": {
      "needs_background": "light"
     },
     "output_type": "display_data"
    }
   ],
   "source": [
    "copy.boxplot(column=\"Bodyweight (kg)\")"
   ]
  },
  {
   "attachments": {
    "a0c94ca3-5edc-4c54-9921-eb91ee5a4b53.png": {
     "image/png": "[encoded data removed]"
    }
   },
   "cell_type": "markdown",
   "metadata": {},
   "source": [
    "Weight around the 70s seem to be the most common with some strange outliers in the 100+ and even 225 range. I thought that these people may have input the weight in pounds instead of kg but I'm not so sure.\n",
    "![image.png](attachment:a0c94ca3-5edc-4c54-9921-eb91ee5a4b53.png)"
   ]
  },
  {
   "cell_type": "code",
   "execution_count": 62,
   "metadata": {},
   "outputs": [
    {
     "data": {
      "text/plain": [
       "<AxesSubplot:>"
      ]
     },
     "execution_count": 62,
     "metadata": {},
     "output_type": "execute_result"
    },
    {
     "data": {
      "image/png": "[encoded data removed]",
      "text/plain": [
       "<Figure size 432x288 with 1 Axes>"
      ]
     },
     "metadata": {
      "needs_background": "light"
     },
     "output_type": "display_data"
    }
   ],
   "source": [
    "copy[\"Height (cm)\"].hist(bins = 30)"
   ]
  },
  {
   "cell_type": "markdown",
   "metadata": {},
   "source": [
    "We seem to have very tall survey participants on average"
   ]
  },
  {
   "cell_type": "code",
   "execution_count": 12,
   "metadata": {},
   "outputs": [
    {
     "data": {
      "text/plain": [
       "<AxesSubplot:>"
      ]
     },
     "execution_count": 12,
     "metadata": {},
     "output_type": "execute_result"
    },
    {
     "data": {
      "image/png": "[encoded data removed]",
      "text/plain": [
       "<Figure size 432x288 with 1 Axes>"
      ]
     },
     "metadata": {
      "needs_background": "light"
     },
     "output_type": "display_data"
    }
   ],
   "source": [
    "copy.boxplot(column=\"Height (cm)\")"
   ]
  },
  {
   "cell_type": "code",
   "execution_count": 13,
   "metadata": {},
   "outputs": [
    {
     "data": {
      "text/html": [
       "<div>\n",
       "<style scoped>\n",
       "    .dataframe tbody tr th:only-of-type {\n",
       "        vertical-align: middle;\n",
       "    }\n",
       "\n",
       "    .dataframe tbody tr th {\n",
       "        vertical-align: top;\n",
       "    }\n",
       "\n",
       "    .dataframe thead th {\n",
       "        text-align: right;\n",
       "    }\n",
       "</style>\n",
       "<table border=\"1\" class=\"dataframe\">\n",
       "  <thead>\n",
       "    <tr style=\"text-align: right;\">\n",
       "      <th></th>\n",
       "      <th>Max Front Lever progression (3 seconds good form)</th>\n",
       "    </tr>\n",
       "  </thead>\n",
       "  <tbody>\n",
       "    <tr>\n",
       "      <th>No tuck lever</th>\n",
       "      <td>13</td>\n",
       "    </tr>\n",
       "    <tr>\n",
       "      <th>Tuck lever</th>\n",
       "      <td>68</td>\n",
       "    </tr>\n",
       "    <tr>\n",
       "      <th>Advanced Tuck lever</th>\n",
       "      <td>191</td>\n",
       "    </tr>\n",
       "    <tr>\n",
       "      <th>Straddle Halflay lever</th>\n",
       "      <td>83</td>\n",
       "    </tr>\n",
       "    <tr>\n",
       "      <th>Straddle lever</th>\n",
       "      <td>84</td>\n",
       "    </tr>\n",
       "    <tr>\n",
       "      <th>Full lever</th>\n",
       "      <td>170</td>\n",
       "    </tr>\n",
       "  </tbody>\n",
       "</table>\n",
       "</div>"
      ],
      "text/plain": [
       "                        Max Front Lever progression (3 seconds good form)\n",
       "No tuck lever                                                          13\n",
       "Tuck lever                                                             68\n",
       "Advanced Tuck lever                                                   191\n",
       "Straddle Halflay lever                                                 83\n",
       "Straddle lever                                                         84\n",
       "Full lever                                                            170"
      ]
     },
     "execution_count": 13,
     "metadata": {},
     "output_type": "execute_result"
    }
   ],
   "source": [
    "fl_counts = copy['Max Front Lever progression (3 seconds good form)'].value_counts().to_frame()\n",
    "fl_counts_row_indices = [5,4,0,3,2,1]\n",
    "fl_counts = fl_counts.iloc[fl_counts_row_indices]\n",
    "fl_counts"
   ]
  },
  {
   "cell_type": "markdown",
   "metadata": {},
   "source": [
    "I expected a more bell curve shape but there seems to be a big proportion of people in the sample that can do a full FL. Maybe the respondents were being dishonest?"
   ]
  },
  {
   "cell_type": "code",
   "execution_count": 50,
   "metadata": {},
   "outputs": [
    {
     "data": {
      "text/plain": [
       "<AxesSubplot:>"
      ]
     },
     "execution_count": 50,
     "metadata": {},
     "output_type": "execute_result"
    },
    {
     "data": {
      "image/png": "[encoded data removed]",
      "text/plain": [
       "<Figure size 432x288 with 1 Axes>"
      ]
     },
     "metadata": {
      "needs_background": "light"
     },
     "output_type": "display_data"
    }
   ],
   "source": [
    "fl_counts.plot(kind = 'barh')"
   ]
  },
  {
   "cell_type": "code",
   "execution_count": 41,
   "metadata": {},
   "outputs": [
    {
     "data": {
      "text/html": [
       "<div>\n",
       "<style scoped>\n",
       "    .dataframe tbody tr th:only-of-type {\n",
       "        vertical-align: middle;\n",
       "    }\n",
       "\n",
       "    .dataframe tbody tr th {\n",
       "        vertical-align: top;\n",
       "    }\n",
       "\n",
       "    .dataframe thead th {\n",
       "        text-align: right;\n",
       "    }\n",
       "</style>\n",
       "<table border=\"1\" class=\"dataframe\">\n",
       "  <thead>\n",
       "    <tr style=\"text-align: right;\">\n",
       "      <th></th>\n",
       "      <th>Bodyweight (kg)</th>\n",
       "      <th>Max pullups (endurance)</th>\n",
       "      <th>Height (cm)</th>\n",
       "    </tr>\n",
       "    <tr>\n",
       "      <th>Max Front Lever progression (3 seconds good form)</th>\n",
       "      <th></th>\n",
       "      <th></th>\n",
       "      <th></th>\n",
       "    </tr>\n",
       "  </thead>\n",
       "  <tbody>\n",
       "    <tr>\n",
       "      <th>No tuck lever</th>\n",
       "      <td>74.000000</td>\n",
       "      <td>10.750000</td>\n",
       "      <td>178.200000</td>\n",
       "    </tr>\n",
       "    <tr>\n",
       "      <th>Tuck lever</th>\n",
       "      <td>75.704545</td>\n",
       "      <td>12.712121</td>\n",
       "      <td>178.309091</td>\n",
       "    </tr>\n",
       "    <tr>\n",
       "      <th>Advanced Tuck lever</th>\n",
       "      <td>73.565556</td>\n",
       "      <td>16.773481</td>\n",
       "      <td>179.501242</td>\n",
       "    </tr>\n",
       "    <tr>\n",
       "      <th>Straddle Halflay lever</th>\n",
       "      <td>71.132715</td>\n",
       "      <td>19.018750</td>\n",
       "      <td>177.494366</td>\n",
       "    </tr>\n",
       "    <tr>\n",
       "      <th>Straddle lever</th>\n",
       "      <td>70.942771</td>\n",
       "      <td>20.701220</td>\n",
       "      <td>174.053448</td>\n",
       "    </tr>\n",
       "    <tr>\n",
       "      <th>Full lever</th>\n",
       "      <td>70.869643</td>\n",
       "      <td>24.487879</td>\n",
       "      <td>175.337622</td>\n",
       "    </tr>\n",
       "  </tbody>\n",
       "</table>\n",
       "</div>"
      ],
      "text/plain": [
       "                                                   Bodyweight (kg)  \\\n",
       "Max Front Lever progression (3 seconds good form)                    \n",
       "No tuck lever                                            74.000000   \n",
       "Tuck lever                                               75.704545   \n",
       "Advanced Tuck lever                                      73.565556   \n",
       "Straddle Halflay lever                                   71.132715   \n",
       "Straddle lever                                           70.942771   \n",
       "Full lever                                               70.869643   \n",
       "\n",
       "                                                   Max pullups (endurance)  \\\n",
       "Max Front Lever progression (3 seconds good form)                            \n",
       "No tuck lever                                                    10.750000   \n",
       "Tuck lever                                                       12.712121   \n",
       "Advanced Tuck lever                                              16.773481   \n",
       "Straddle Halflay lever                                           19.018750   \n",
       "Straddle lever                                                   20.701220   \n",
       "Full lever                                                       24.487879   \n",
       "\n",
       "                                                   Height (cm)  \n",
       "Max Front Lever progression (3 seconds good form)               \n",
       "No tuck lever                                       178.200000  \n",
       "Tuck lever                                          178.309091  \n",
       "Advanced Tuck lever                                 179.501242  \n",
       "Straddle Halflay lever                              177.494366  \n",
       "Straddle lever                                      174.053448  \n",
       "Full lever                                          175.337622  "
      ]
     },
     "execution_count": 41,
     "metadata": {},
     "output_type": "execute_result"
    }
   ],
   "source": [
    "groupby_fl = copy.groupby('Max Front Lever progression (3 seconds good form)').mean()\n",
    "groupby_fl = groupby_fl.iloc[[2,5,0,3,4,1]]\n",
    "groupby_fl"
   ]
  },
  {
   "cell_type": "markdown",
   "metadata": {},
   "source": [
    "Kinda obvious but average bodyweight and height goes down the more difficult FL variation athlete can do. Max pull ups on the other hand increases."
   ]
  },
  {
   "cell_type": "code",
   "execution_count": 42,
   "metadata": {},
   "outputs": [
    {
     "data": {
      "text/html": [
       "<div>\n",
       "<style scoped>\n",
       "    .dataframe tbody tr th:only-of-type {\n",
       "        vertical-align: middle;\n",
       "    }\n",
       "\n",
       "    .dataframe tbody tr th {\n",
       "        vertical-align: top;\n",
       "    }\n",
       "\n",
       "    .dataframe thead th {\n",
       "        text-align: right;\n",
       "    }\n",
       "</style>\n",
       "<table border=\"1\" class=\"dataframe\">\n",
       "  <thead>\n",
       "    <tr style=\"text-align: right;\">\n",
       "      <th>Weighted Pullup 1RM (% of BW)</th>\n",
       "      <th>&lt;10%</th>\n",
       "      <th>10%-30%</th>\n",
       "      <th>30%-50%</th>\n",
       "      <th>50%-65%</th>\n",
       "      <th>65%-80%</th>\n",
       "      <th>80%-90%</th>\n",
       "      <th>&gt;90%</th>\n",
       "    </tr>\n",
       "    <tr>\n",
       "      <th>Max Front Lever progression (3 seconds good form)</th>\n",
       "      <th></th>\n",
       "      <th></th>\n",
       "      <th></th>\n",
       "      <th></th>\n",
       "      <th></th>\n",
       "      <th></th>\n",
       "      <th></th>\n",
       "    </tr>\n",
       "  </thead>\n",
       "  <tbody>\n",
       "    <tr>\n",
       "      <th>No tuck lever</th>\n",
       "      <td>4</td>\n",
       "      <td>3</td>\n",
       "      <td>2</td>\n",
       "      <td>2</td>\n",
       "      <td>1</td>\n",
       "      <td>0</td>\n",
       "      <td>1</td>\n",
       "    </tr>\n",
       "    <tr>\n",
       "      <th>Tuck lever</th>\n",
       "      <td>10</td>\n",
       "      <td>30</td>\n",
       "      <td>19</td>\n",
       "      <td>6</td>\n",
       "      <td>2</td>\n",
       "      <td>1</td>\n",
       "      <td>0</td>\n",
       "    </tr>\n",
       "    <tr>\n",
       "      <th>Advanced Tuck lever</th>\n",
       "      <td>10</td>\n",
       "      <td>37</td>\n",
       "      <td>68</td>\n",
       "      <td>43</td>\n",
       "      <td>23</td>\n",
       "      <td>6</td>\n",
       "      <td>4</td>\n",
       "    </tr>\n",
       "    <tr>\n",
       "      <th>Straddle Halflay lever</th>\n",
       "      <td>2</td>\n",
       "      <td>10</td>\n",
       "      <td>22</td>\n",
       "      <td>25</td>\n",
       "      <td>21</td>\n",
       "      <td>2</td>\n",
       "      <td>1</td>\n",
       "    </tr>\n",
       "    <tr>\n",
       "      <th>Straddle lever</th>\n",
       "      <td>3</td>\n",
       "      <td>3</td>\n",
       "      <td>27</td>\n",
       "      <td>28</td>\n",
       "      <td>16</td>\n",
       "      <td>6</td>\n",
       "      <td>1</td>\n",
       "    </tr>\n",
       "    <tr>\n",
       "      <th>Full lever</th>\n",
       "      <td>1</td>\n",
       "      <td>5</td>\n",
       "      <td>13</td>\n",
       "      <td>30</td>\n",
       "      <td>57</td>\n",
       "      <td>33</td>\n",
       "      <td>31</td>\n",
       "    </tr>\n",
       "  </tbody>\n",
       "</table>\n",
       "</div>"
      ],
      "text/plain": [
       "Weighted Pullup 1RM (% of BW)                      <10%  10%-30%  30%-50%  \\\n",
       "Max Front Lever progression (3 seconds good form)                           \n",
       "No tuck lever                                         4        3        2   \n",
       "Tuck lever                                           10       30       19   \n",
       "Advanced Tuck lever                                  10       37       68   \n",
       "Straddle Halflay lever                                2       10       22   \n",
       "Straddle lever                                        3        3       27   \n",
       "Full lever                                            1        5       13   \n",
       "\n",
       "Weighted Pullup 1RM (% of BW)                      50%-65%  65%-80%  80%-90%  \\\n",
       "Max Front Lever progression (3 seconds good form)                              \n",
       "No tuck lever                                            2        1        0   \n",
       "Tuck lever                                               6        2        1   \n",
       "Advanced Tuck lever                                     43       23        6   \n",
       "Straddle Halflay lever                                  25       21        2   \n",
       "Straddle lever                                          28       16        6   \n",
       "Full lever                                              30       57       33   \n",
       "\n",
       "Weighted Pullup 1RM (% of BW)                      >90%  \n",
       "Max Front Lever progression (3 seconds good form)        \n",
       "No tuck lever                                         1  \n",
       "Tuck lever                                            0  \n",
       "Advanced Tuck lever                                   4  \n",
       "Straddle Halflay lever                                1  \n",
       "Straddle lever                                        1  \n",
       "Full lever                                           31  "
      ]
     },
     "execution_count": 42,
     "metadata": {},
     "output_type": "execute_result"
    }
   ],
   "source": [
    "fl_pivot = copy.pivot_table(index=['Max Front Lever progression (3 seconds good form)'],\n",
    "                 columns='Weighted Pullup 1RM (% of BW)',\n",
    "                 aggfunc='size',\n",
    "                 fill_value=0)\n",
    "fl_pivot = fl_pivot[[\"<10%\",\"10%-30%\",\"30%-50%\",\"50%-65%\",\"65%-80%\",\"80%-90%\",\">90%\"]].copy()\n",
    "fl_pivot = fl_pivot.iloc[[2,5,0,3,4,1]]\n",
    "fl_pivot"
   ]
  },
  {
   "cell_type": "markdown",
   "metadata": {},
   "source": [
    "Quite apparent that the people strong in FL are also strong at weighted pull ups. Whether weighted pull ups allow you to achieve FL is a matter still not clear yet."
   ]
  },
  {
   "cell_type": "code",
   "execution_count": 68,
   "metadata": {},
   "outputs": [
    {
     "data": {
      "text/html": [
       "<div>\n",
       "<style scoped>\n",
       "    .dataframe tbody tr th:only-of-type {\n",
       "        vertical-align: middle;\n",
       "    }\n",
       "\n",
       "    .dataframe tbody tr th {\n",
       "        vertical-align: top;\n",
       "    }\n",
       "\n",
       "    .dataframe thead th {\n",
       "        text-align: right;\n",
       "    }\n",
       "</style>\n",
       "<table border=\"1\" class=\"dataframe\">\n",
       "  <thead>\n",
       "    <tr style=\"text-align: right;\">\n",
       "      <th></th>\n",
       "      <th>Weighted Pullup 1RM (% of BW)</th>\n",
       "    </tr>\n",
       "  </thead>\n",
       "  <tbody>\n",
       "    <tr>\n",
       "      <th>&lt;10%</th>\n",
       "      <td>30</td>\n",
       "    </tr>\n",
       "    <tr>\n",
       "      <th>10%-30%</th>\n",
       "      <td>88</td>\n",
       "    </tr>\n",
       "    <tr>\n",
       "      <th>30%-50%</th>\n",
       "      <td>151</td>\n",
       "    </tr>\n",
       "    <tr>\n",
       "      <th>50%-65%</th>\n",
       "      <td>134</td>\n",
       "    </tr>\n",
       "    <tr>\n",
       "      <th>80%-90%</th>\n",
       "      <td>48</td>\n",
       "    </tr>\n",
       "    <tr>\n",
       "      <th>&gt;90%</th>\n",
       "      <td>38</td>\n",
       "    </tr>\n",
       "  </tbody>\n",
       "</table>\n",
       "</div>"
      ],
      "text/plain": [
       "         Weighted Pullup 1RM (% of BW)\n",
       "<10%                                30\n",
       "10%-30%                             88\n",
       "30%-50%                            151\n",
       "50%-65%                            134\n",
       "80%-90%                             48\n",
       ">90%                                38"
      ]
     },
     "execution_count": 68,
     "metadata": {},
     "output_type": "execute_result"
    }
   ],
   "source": [
    "wpu_counts = copy['Weighted Pullup 1RM (% of BW)'].value_counts().to_frame()\n",
    "wpu_counts_row_indices = [6,3,0,1,4,5]\n",
    "wpu_counts = wpu_counts.iloc[wpu_counts_row_indices]\n",
    "wpu_counts"
   ]
  },
  {
   "attachments": {
    "b618de5f-e771-42a4-b874-0e807970b01a.png": {
     "image/png": "[encoded data removed]"
    }
   },
   "cell_type": "markdown",
   "metadata": {},
   "source": [
    "The distribution of weighted pull up seems normal. But compared to the distribution of front lever, it is not as skewed as I thought it would be.\n",
    "FL distribution from above for comparison\n",
    "![image.png](attachment:b618de5f-e771-42a4-b874-0e807970b01a.png)"
   ]
  },
  {
   "cell_type": "code",
   "execution_count": 69,
   "metadata": {},
   "outputs": [
    {
     "data": {
      "text/plain": [
       "<AxesSubplot:>"
      ]
     },
     "execution_count": 69,
     "metadata": {},
     "output_type": "execute_result"
    },
    {
     "data": {
      "image/png": "[encoded data removed]",
      "text/plain": [
       "<Figure size 432x288 with 1 Axes>"
      ]
     },
     "metadata": {
      "needs_background": "light"
     },
     "output_type": "display_data"
    }
   ],
   "source": [
    "wpu_counts.plot(kind = 'barh')"
   ]
  },
  {
   "cell_type": "code",
   "execution_count": 70,
   "metadata": {},
   "outputs": [
    {
     "data": {
      "text/html": [
       "<div>\n",
       "<style scoped>\n",
       "    .dataframe tbody tr th:only-of-type {\n",
       "        vertical-align: middle;\n",
       "    }\n",
       "\n",
       "    .dataframe tbody tr th {\n",
       "        vertical-align: top;\n",
       "    }\n",
       "\n",
       "    .dataframe thead th {\n",
       "        text-align: right;\n",
       "    }\n",
       "</style>\n",
       "<table border=\"1\" class=\"dataframe\">\n",
       "  <thead>\n",
       "    <tr style=\"text-align: right;\">\n",
       "      <th></th>\n",
       "      <th>Bodyweight (kg)</th>\n",
       "      <th>Max pullups (endurance)</th>\n",
       "      <th>Height (cm)</th>\n",
       "    </tr>\n",
       "    <tr>\n",
       "      <th>Weighted Pullup 1RM (% of BW)</th>\n",
       "      <th></th>\n",
       "      <th></th>\n",
       "      <th></th>\n",
       "    </tr>\n",
       "  </thead>\n",
       "  <tbody>\n",
       "    <tr>\n",
       "      <th>&lt;10%</th>\n",
       "      <td>73.517241</td>\n",
       "      <td>11.396552</td>\n",
       "      <td>175.350000</td>\n",
       "    </tr>\n",
       "    <tr>\n",
       "      <th>10%-30%</th>\n",
       "      <td>71.676829</td>\n",
       "      <td>12.176829</td>\n",
       "      <td>178.352941</td>\n",
       "    </tr>\n",
       "    <tr>\n",
       "      <th>30%-50%</th>\n",
       "      <td>71.303793</td>\n",
       "      <td>17.054422</td>\n",
       "      <td>177.834959</td>\n",
       "    </tr>\n",
       "    <tr>\n",
       "      <th>50%-65%</th>\n",
       "      <td>74.044275</td>\n",
       "      <td>19.592308</td>\n",
       "      <td>177.805310</td>\n",
       "    </tr>\n",
       "    <tr>\n",
       "      <th>65%-80%</th>\n",
       "      <td>73.231249</td>\n",
       "      <td>23.004274</td>\n",
       "      <td>176.959800</td>\n",
       "    </tr>\n",
       "    <tr>\n",
       "      <th>80%-90%</th>\n",
       "      <td>70.182222</td>\n",
       "      <td>26.088889</td>\n",
       "      <td>174.369730</td>\n",
       "    </tr>\n",
       "    <tr>\n",
       "      <th>&gt;90%</th>\n",
       "      <td>70.739474</td>\n",
       "      <td>28.194444</td>\n",
       "      <td>176.043030</td>\n",
       "    </tr>\n",
       "  </tbody>\n",
       "</table>\n",
       "</div>"
      ],
      "text/plain": [
       "                               Bodyweight (kg)  Max pullups (endurance)  \\\n",
       "Weighted Pullup 1RM (% of BW)                                             \n",
       "<10%                                 73.517241                11.396552   \n",
       "10%-30%                              71.676829                12.176829   \n",
       "30%-50%                              71.303793                17.054422   \n",
       "50%-65%                              74.044275                19.592308   \n",
       "65%-80%                              73.231249                23.004274   \n",
       "80%-90%                              70.182222                26.088889   \n",
       ">90%                                 70.739474                28.194444   \n",
       "\n",
       "                               Height (cm)  \n",
       "Weighted Pullup 1RM (% of BW)               \n",
       "<10%                            175.350000  \n",
       "10%-30%                         178.352941  \n",
       "30%-50%                         177.834959  \n",
       "50%-65%                         177.805310  \n",
       "65%-80%                         176.959800  \n",
       "80%-90%                         174.369730  \n",
       ">90%                            176.043030  "
      ]
     },
     "execution_count": 70,
     "metadata": {},
     "output_type": "execute_result"
    }
   ],
   "source": [
    "groupby_wpu = copy.groupby('Weighted Pullup 1RM (% of BW)').mean()\n",
    "groupby_wpu = groupby_wpu.iloc[[5,0,1,2,3,4,6]]\n",
    "groupby_wpu"
   ]
  },
  {
   "cell_type": "code",
   "execution_count": 43,
   "metadata": {},
   "outputs": [
    {
     "data": {
      "text/html": [
       "<div>\n",
       "<style scoped>\n",
       "    .dataframe tbody tr th:only-of-type {\n",
       "        vertical-align: middle;\n",
       "    }\n",
       "\n",
       "    .dataframe tbody tr th {\n",
       "        vertical-align: top;\n",
       "    }\n",
       "\n",
       "    .dataframe thead th {\n",
       "        text-align: right;\n",
       "    }\n",
       "</style>\n",
       "<table border=\"1\" class=\"dataframe\">\n",
       "  <thead>\n",
       "    <tr style=\"text-align: right;\">\n",
       "      <th>Max Front Lever progression (3 seconds good form)</th>\n",
       "      <th>No tuck lever</th>\n",
       "      <th>Tuck lever</th>\n",
       "      <th>Advanced Tuck lever</th>\n",
       "      <th>Straddle Halflay lever</th>\n",
       "      <th>Straddle lever</th>\n",
       "      <th>Full lever</th>\n",
       "    </tr>\n",
       "    <tr>\n",
       "      <th>Weighted Pullup 1RM (% of BW)</th>\n",
       "      <th></th>\n",
       "      <th></th>\n",
       "      <th></th>\n",
       "      <th></th>\n",
       "      <th></th>\n",
       "      <th></th>\n",
       "    </tr>\n",
       "  </thead>\n",
       "  <tbody>\n",
       "    <tr>\n",
       "      <th>&lt;10%</th>\n",
       "      <td>4</td>\n",
       "      <td>10</td>\n",
       "      <td>10</td>\n",
       "      <td>2</td>\n",
       "      <td>3</td>\n",
       "      <td>1</td>\n",
       "    </tr>\n",
       "    <tr>\n",
       "      <th>10%-30%</th>\n",
       "      <td>3</td>\n",
       "      <td>30</td>\n",
       "      <td>37</td>\n",
       "      <td>10</td>\n",
       "      <td>3</td>\n",
       "      <td>5</td>\n",
       "    </tr>\n",
       "    <tr>\n",
       "      <th>30%-50%</th>\n",
       "      <td>2</td>\n",
       "      <td>19</td>\n",
       "      <td>68</td>\n",
       "      <td>22</td>\n",
       "      <td>27</td>\n",
       "      <td>13</td>\n",
       "    </tr>\n",
       "    <tr>\n",
       "      <th>50%-65%</th>\n",
       "      <td>2</td>\n",
       "      <td>6</td>\n",
       "      <td>43</td>\n",
       "      <td>25</td>\n",
       "      <td>28</td>\n",
       "      <td>30</td>\n",
       "    </tr>\n",
       "    <tr>\n",
       "      <th>65%-80%</th>\n",
       "      <td>1</td>\n",
       "      <td>2</td>\n",
       "      <td>23</td>\n",
       "      <td>21</td>\n",
       "      <td>16</td>\n",
       "      <td>57</td>\n",
       "    </tr>\n",
       "    <tr>\n",
       "      <th>80%-90%</th>\n",
       "      <td>0</td>\n",
       "      <td>1</td>\n",
       "      <td>6</td>\n",
       "      <td>2</td>\n",
       "      <td>6</td>\n",
       "      <td>33</td>\n",
       "    </tr>\n",
       "    <tr>\n",
       "      <th>&gt;90%</th>\n",
       "      <td>1</td>\n",
       "      <td>0</td>\n",
       "      <td>4</td>\n",
       "      <td>1</td>\n",
       "      <td>1</td>\n",
       "      <td>31</td>\n",
       "    </tr>\n",
       "  </tbody>\n",
       "</table>\n",
       "</div>"
      ],
      "text/plain": [
       "Max Front Lever progression (3 seconds good form)  No tuck lever  Tuck lever  \\\n",
       "Weighted Pullup 1RM (% of BW)                                                  \n",
       "<10%                                                           4          10   \n",
       "10%-30%                                                        3          30   \n",
       "30%-50%                                                        2          19   \n",
       "50%-65%                                                        2           6   \n",
       "65%-80%                                                        1           2   \n",
       "80%-90%                                                        0           1   \n",
       ">90%                                                           1           0   \n",
       "\n",
       "Max Front Lever progression (3 seconds good form)  Advanced Tuck lever  \\\n",
       "Weighted Pullup 1RM (% of BW)                                            \n",
       "<10%                                                                10   \n",
       "10%-30%                                                             37   \n",
       "30%-50%                                                             68   \n",
       "50%-65%                                                             43   \n",
       "65%-80%                                                             23   \n",
       "80%-90%                                                              6   \n",
       ">90%                                                                 4   \n",
       "\n",
       "Max Front Lever progression (3 seconds good form)  Straddle Halflay lever  \\\n",
       "Weighted Pullup 1RM (% of BW)                                               \n",
       "<10%                                                                    2   \n",
       "10%-30%                                                                10   \n",
       "30%-50%                                                                22   \n",
       "50%-65%                                                                25   \n",
       "65%-80%                                                                21   \n",
       "80%-90%                                                                 2   \n",
       ">90%                                                                    1   \n",
       "\n",
       "Max Front Lever progression (3 seconds good form)  Straddle lever  Full lever  \n",
       "Weighted Pullup 1RM (% of BW)                                                  \n",
       "<10%                                                            3           1  \n",
       "10%-30%                                                         3           5  \n",
       "30%-50%                                                        27          13  \n",
       "50%-65%                                                        28          30  \n",
       "65%-80%                                                        16          57  \n",
       "80%-90%                                                         6          33  \n",
       ">90%                                                            1          31  "
      ]
     },
     "execution_count": 43,
     "metadata": {},
     "output_type": "execute_result"
    }
   ],
   "source": [
    "wpu_pivot = copy.pivot_table(index=['Weighted Pullup 1RM (% of BW)'],\n",
    "                 columns='Max Front Lever progression (3 seconds good form)',\n",
    "                 aggfunc='size',\n",
    "                 fill_value=0)\n",
    "wpu_pivot = wpu_pivot[[\"No tuck lever\",\"Tuck lever\",\"Advanced Tuck lever\",\"Straddle Halflay lever\",\"Straddle lever\",\"Full lever\"]].copy()\n",
    "wpu_pivot = wpu_pivot.iloc[[5,0,1,2,3,4,6]]\n",
    "wpu_pivot"
   ]
  }
 ],
 "metadata": {
  "kernelspec": {
   "display_name": "Python 3",
   "language": "python",
   "name": "python3"
  },
  "language_info": {
   "codemirror_mode": {
    "name": "ipython",
    "version": 3
   },
   "file_extension": ".py",
   "mimetype": "text/x-python",
   "name": "python",
   "nbconvert_exporter": "python",
   "pygments_lexer": "ipython3",
   "version": "3.8.5"
  }
 },
 "nbformat": 4,
 "nbformat_minor": 4
}
